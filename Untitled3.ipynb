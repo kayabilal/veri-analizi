{
  "nbformat": 4,
  "nbformat_minor": 0,
  "metadata": {
    "colab": {
      "name": "Untitled3.ipynb",
      "provenance": [],
      "collapsed_sections": []
    },
    "kernelspec": {
      "name": "python3",
      "display_name": "Python 3"
    }
  },
  "cells": [
    {
      "cell_type": "code",
      "metadata": {
        "id": "dzY7eGIxNLO5"
      },
      "source": [
        ""
      ],
      "execution_count": null,
      "outputs": []
    },
    {
      "cell_type": "markdown",
      "metadata": {
        "id": "bv3rjnQKjCnj"
      },
      "source": [
        "**English Premier League Players Dataset, 2017/18**"
      ]
    },
    {
      "cell_type": "markdown",
      "metadata": {
        "id": "H1-mPdrkgpjd"
      },
      "source": [
        "**INTRO TO RESEARCH METHODS**\n",
        "\n",
        "\n",
        "\n",
        "\n",
        " \n",
        "1)Identify several statistical study methods and describe the\n",
        "positives and negatives of each"
      ]
    },
    {
      "cell_type": "markdown",
      "metadata": {
        "id": "k_jZsZWRDl_d"
      },
      "source": [
        "**Kontext**\n",
        "\n",
        "Für die meisten Fußballfans bedeutet Mai - Juli aufgrund des Mangels an Klubfußball eine Flaute. Was das wieder wettmacht, sind die intensiven Transferspekulationen, die heute alle Transfers von großen Spielern umgeben. Ihre Marktbewertungen führen in letzter Zeit mehr denn je zu hochgezogenen Augenbrauen. Es war neugierig zu sehen, wie gut eine Proxy-Popularität für die Fähigkeit sein könnte und welche Vorhersagekraft sie in einem Modell haben würde, das den Marktwert eines Spielers schätzt."
      ]
    },
    {
      "cell_type": "markdown",
      "metadata": {
        "id": "zSArpBd-ILtw"
      },
      "source": [
        "\n",
        "**unabhängige Variable**: age\n",
        "\n",
        "**abhängige Variable**: market_value\n",
        "\n",
        "**abhängige Variable**: page_views\n",
        "\n",
        "\n",
        "**Statistischer Test**:\n",
        "Pearson Korrelation\n",
        "\n",
        "Die bivariate Pearson-Korrelation erzeugt einen Stichproben-Korrelationskoeffizienten r, der die Stärke und Richtung linearer Beziehungen zwischen Paaren kontinuierlicher Variablen misst. Im weiteren Sinne bewertet die Pearson-Korrelation, ob es statistische Belege für eine lineare Beziehung zwischen denselben Variablenpaaren in der Population gibt, dargestellt durch einen Populationskorrelationskoeffizienten ρ („rho“). Die Pearson-Korrelation ist ein parametrisches Maß.\n",
        "\n",
        "Die bivariate Pearson-Korrelation zeigt Folgendes an:\n",
        "\n",
        "Gibt es eine statistisch signifikante lineare Beziehung zwischen zwei kontinuierlichen Variablen\n",
        "\n",
        "Die Stärke einer linearen Beziehung ( Wie nahe die Beziehung an einer perfekt geraden Linie liegt)\n",
        "\n",
        "Die Richtung einer linearen Beziehung (zunehmend oder abnehmend)\n",
        "\n",
        "Die Nullhypothese (H0) und die Alternativhypothese (H1) des Signifikanztests für die Korrelation können auf folgende Weise ausgedrückt werden, je nachdem, ob ein einseitiger oder ein zweiseitiger Test angefordert wird:\n",
        "\n",
        "Zweiseitiger Signifikanztest:\n",
        "\n",
        "H0: ρ = 0 (\"der Populationskorrelationskoeffizient ist 0; es gibt keine Assoziation\")\n",
        "H1: ρ ≠ 0 (\"der Populationskorrelationskoeffizient ist nicht 0; eine Korrelation ungleich Null könnte existieren\")\n",
        "\n",
        "Einseitiger Signifikanztest:\n",
        "\n",
        "H0: ρ = 0 (\"der Populationskorrelationskoeffizient ist 0; es gibt keine Assoziation\")\n",
        "H1: ρ> 0 (\"der Populationskorrelationskoeffizient ist größer als 0; eine positive Korrelation könnte bestehen\")\n",
        "     ODER\n",
        "H1: ρ <0 (\"der Populationskorrelationskoeffizient ist kleiner als 0; eine negative Korrelation könnte existieren\")\n",
        "\n",
        "wobei ρ der Populationskorrelationskoeffizient ist.\n"
      ]
    },
    {
      "cell_type": "code",
      "metadata": {
        "id": "caaaZ22xnZ0m"
      },
      "source": [
        "import math\n",
        "import pandas as pd\n",
        "import numpy as np\n",
        "import seaborn as sns\n",
        "import matplotlib as mt\n",
        "import timeit\n",
        "from scipy.stats import t\n",
        "import scipy\n",
        "import statistics\n",
        "import matplotlib.pyplot as plt\n",
        "%matplotlib inline\n",
        "import warnings #Hataları kaldırma işlemi yapıyoruz\n",
        "warnings.filterwarnings(\"ignore\")\n",
        "from scipy import stats\n",
        "\n"
      ],
      "execution_count": null,
      "outputs": []
    },
    {
      "cell_type": "markdown",
      "metadata": {
        "id": "TmyDFg5igKSY"
      },
      "source": [
        "**VISUALIZING DATA**\n",
        "\n",
        "2)Create and interpret histograms, bar charts, and frequency plots\n",
        "\n"
      ]
    },
    {
      "cell_type": "code",
      "metadata": {
        "id": "MW7nF18po-yL",
        "colab": {
          "base_uri": "https://localhost:8080/",
          "height": 255
        },
        "outputId": "44495806-8b19-4c4b-abbb-b2590dde83e9"
      },
      "source": [
        "e = pd.read_csv(\"/datasets_1808_3130_epldata_final.csv\")\n",
        "\n",
        "print(e) #Datenrahmen erstellt"
      ],
      "execution_count": null,
      "outputs": [
        {
          "output_type": "stream",
          "text": [
            "                    name      club  age  ... club_id  big_club  new_signing\n",
            "0         Alexis Sanchez   Arsenal   28  ...       1         1            0\n",
            "1             Mesut Ozil   Arsenal   28  ...       1         1            0\n",
            "2              Petr Cech   Arsenal   35  ...       1         1            0\n",
            "3           Theo Walcott   Arsenal   28  ...       1         1            0\n",
            "4      Laurent Koscielny   Arsenal   31  ...       1         1            0\n",
            "..                   ...       ...  ...  ...     ...       ...          ...\n",
            "456  Edimilson Fernandes  West+Ham   21  ...      20         0            1\n",
            "457       Arthur Masuaku  West+Ham   23  ...      20         0            1\n",
            "458            Sam Byram  West+Ham   23  ...      20         0            0\n",
            "459      Ashley Fletcher  West+Ham   21  ...      20         0            1\n",
            "460         Diafra Sakho  West+Ham   27  ...      20         0            0\n",
            "\n",
            "[461 rows x 17 columns]\n"
          ],
          "name": "stdout"
        }
      ]
    },
    {
      "cell_type": "markdown",
      "metadata": {
        "id": "MZAcAbetN25j"
      },
      "source": [
        "#Datenrahmen erstellt"
      ]
    },
    {
      "cell_type": "code",
      "metadata": {
        "id": "U9jVZ9lslMhJ",
        "colab": {
          "base_uri": "https://localhost:8080/",
          "height": 309
        },
        "outputId": "34fd75a5-06a1-4386-bb21-5e09fa93d076"
      },
      "source": [
        "e=pd.read_csv(\"/datasets_1808_3130_epldata_final.csv\")\n",
        "e.head()   #Die ersten 5 Werte des Datenrahmens wurden genommen"
      ],
      "execution_count": null,
      "outputs": [
        {
          "output_type": "execute_result",
          "data": {
            "text/html": [
              "<div>\n",
              "<style scoped>\n",
              "    .dataframe tbody tr th:only-of-type {\n",
              "        vertical-align: middle;\n",
              "    }\n",
              "\n",
              "    .dataframe tbody tr th {\n",
              "        vertical-align: top;\n",
              "    }\n",
              "\n",
              "    .dataframe thead th {\n",
              "        text-align: right;\n",
              "    }\n",
              "</style>\n",
              "<table border=\"1\" class=\"dataframe\">\n",
              "  <thead>\n",
              "    <tr style=\"text-align: right;\">\n",
              "      <th></th>\n",
              "      <th>name</th>\n",
              "      <th>club</th>\n",
              "      <th>age</th>\n",
              "      <th>position</th>\n",
              "      <th>position_cat</th>\n",
              "      <th>market_value</th>\n",
              "      <th>page_views</th>\n",
              "      <th>fpl_value</th>\n",
              "      <th>fpl_sel</th>\n",
              "      <th>fpl_points</th>\n",
              "      <th>region</th>\n",
              "      <th>nationality</th>\n",
              "      <th>new_foreign</th>\n",
              "      <th>age_cat</th>\n",
              "      <th>club_id</th>\n",
              "      <th>big_club</th>\n",
              "      <th>new_signing</th>\n",
              "    </tr>\n",
              "  </thead>\n",
              "  <tbody>\n",
              "    <tr>\n",
              "      <th>0</th>\n",
              "      <td>Alexis Sanchez</td>\n",
              "      <td>Arsenal</td>\n",
              "      <td>28</td>\n",
              "      <td>LW</td>\n",
              "      <td>1</td>\n",
              "      <td>65.0</td>\n",
              "      <td>4329</td>\n",
              "      <td>12.0</td>\n",
              "      <td>17.10%</td>\n",
              "      <td>264</td>\n",
              "      <td>3.0</td>\n",
              "      <td>Chile</td>\n",
              "      <td>0</td>\n",
              "      <td>4</td>\n",
              "      <td>1</td>\n",
              "      <td>1</td>\n",
              "      <td>0</td>\n",
              "    </tr>\n",
              "    <tr>\n",
              "      <th>1</th>\n",
              "      <td>Mesut Ozil</td>\n",
              "      <td>Arsenal</td>\n",
              "      <td>28</td>\n",
              "      <td>AM</td>\n",
              "      <td>1</td>\n",
              "      <td>50.0</td>\n",
              "      <td>4395</td>\n",
              "      <td>9.5</td>\n",
              "      <td>5.60%</td>\n",
              "      <td>167</td>\n",
              "      <td>2.0</td>\n",
              "      <td>Germany</td>\n",
              "      <td>0</td>\n",
              "      <td>4</td>\n",
              "      <td>1</td>\n",
              "      <td>1</td>\n",
              "      <td>0</td>\n",
              "    </tr>\n",
              "    <tr>\n",
              "      <th>2</th>\n",
              "      <td>Petr Cech</td>\n",
              "      <td>Arsenal</td>\n",
              "      <td>35</td>\n",
              "      <td>GK</td>\n",
              "      <td>4</td>\n",
              "      <td>7.0</td>\n",
              "      <td>1529</td>\n",
              "      <td>5.5</td>\n",
              "      <td>5.90%</td>\n",
              "      <td>134</td>\n",
              "      <td>2.0</td>\n",
              "      <td>Czech Republic</td>\n",
              "      <td>0</td>\n",
              "      <td>6</td>\n",
              "      <td>1</td>\n",
              "      <td>1</td>\n",
              "      <td>0</td>\n",
              "    </tr>\n",
              "    <tr>\n",
              "      <th>3</th>\n",
              "      <td>Theo Walcott</td>\n",
              "      <td>Arsenal</td>\n",
              "      <td>28</td>\n",
              "      <td>RW</td>\n",
              "      <td>1</td>\n",
              "      <td>20.0</td>\n",
              "      <td>2393</td>\n",
              "      <td>7.5</td>\n",
              "      <td>1.50%</td>\n",
              "      <td>122</td>\n",
              "      <td>1.0</td>\n",
              "      <td>England</td>\n",
              "      <td>0</td>\n",
              "      <td>4</td>\n",
              "      <td>1</td>\n",
              "      <td>1</td>\n",
              "      <td>0</td>\n",
              "    </tr>\n",
              "    <tr>\n",
              "      <th>4</th>\n",
              "      <td>Laurent Koscielny</td>\n",
              "      <td>Arsenal</td>\n",
              "      <td>31</td>\n",
              "      <td>CB</td>\n",
              "      <td>3</td>\n",
              "      <td>22.0</td>\n",
              "      <td>912</td>\n",
              "      <td>6.0</td>\n",
              "      <td>0.70%</td>\n",
              "      <td>121</td>\n",
              "      <td>2.0</td>\n",
              "      <td>France</td>\n",
              "      <td>0</td>\n",
              "      <td>4</td>\n",
              "      <td>1</td>\n",
              "      <td>1</td>\n",
              "      <td>0</td>\n",
              "    </tr>\n",
              "  </tbody>\n",
              "</table>\n",
              "</div>"
            ],
            "text/plain": [
              "                name     club  age  ... club_id  big_club  new_signing\n",
              "0     Alexis Sanchez  Arsenal   28  ...       1         1            0\n",
              "1         Mesut Ozil  Arsenal   28  ...       1         1            0\n",
              "2          Petr Cech  Arsenal   35  ...       1         1            0\n",
              "3       Theo Walcott  Arsenal   28  ...       1         1            0\n",
              "4  Laurent Koscielny  Arsenal   31  ...       1         1            0\n",
              "\n",
              "[5 rows x 17 columns]"
            ]
          },
          "metadata": {
            "tags": []
          },
          "execution_count": 435
        }
      ]
    },
    {
      "cell_type": "markdown",
      "metadata": {
        "id": "8RsTVwrZONbu"
      },
      "source": [
        "#Die ersten 5 Werte des Datenrahmens wurden genommen"
      ]
    },
    {
      "cell_type": "code",
      "metadata": {
        "id": "sJgvYzkmrIBy",
        "colab": {
          "base_uri": "https://localhost:8080/",
          "height": 299
        },
        "outputId": "04ac220b-366c-4fe4-d65a-c251300d4d6e"
      },
      "source": [
        "sns.distplot(e[\"page_views\"])#Diese Daten sind nicht für die Normalverteilung geeignet"
      ],
      "execution_count": null,
      "outputs": [
        {
          "output_type": "execute_result",
          "data": {
            "text/plain": [
              "<matplotlib.axes._subplots.AxesSubplot at 0x7f2f403819b0>"
            ]
          },
          "metadata": {
            "tags": []
          },
          "execution_count": 437
        },
        {
          "output_type": "display_data",
          "data": {
            "image/png": "[encoded data removed]",
            "text/plain": [
              "<Figure size 432x288 with 1 Axes>"
            ]
          },
          "metadata": {
            "tags": [],
            "needs_background": "light"
          }
        }
      ]
    },
    {
      "cell_type": "markdown",
      "metadata": {
        "id": "CutgUGYJOha8"
      },
      "source": [
        "\n",
        "Diese Daten sind nicht für die Normalverteilung geeignet"
      ]
    },
    {
      "cell_type": "code",
      "metadata": {
        "id": "IIqU9c8xQXQL",
        "colab": {
          "base_uri": "https://localhost:8080/",
          "height": 299
        },
        "outputId": "0cd96820-e17f-4436-be3a-f78f7bb3d664"
      },
      "source": [
        "sns.distplot(e[\"age\"])#Diese Daten sind  für die Normalverteilung geeignet"
      ],
      "execution_count": null,
      "outputs": [
        {
          "output_type": "execute_result",
          "data": {
            "text/plain": [
              "<matplotlib.axes._subplots.AxesSubplot at 0x7f2f402ceeb8>"
            ]
          },
          "metadata": {
            "tags": []
          },
          "execution_count": 438
        },
        {
          "output_type": "display_data",
          "data": {
            "image/png": "[encoded data removed]",
            "text/plain": [
              "<Figure size 432x288 with 1 Axes>"
            ]
          },
          "metadata": {
            "tags": [],
            "needs_background": "light"
          }
        }
      ]
    },
    {
      "cell_type": "markdown",
      "metadata": {
        "id": "jI0pxD8VO5bF"
      },
      "source": [
        "#Diese Daten sind  für die Normalverteilung geeignet"
      ]
    },
    {
      "cell_type": "code",
      "metadata": {
        "id": "9RpEw8sy2MQC",
        "colab": {
          "base_uri": "https://localhost:8080/",
          "height": 299
        },
        "outputId": "7340a823-6b15-447a-bc46-89dcc1cd40ca"
      },
      "source": [
        "sns.distplot(e['market_value'])#Diese Daten sind nicht  für die Normalverteilung geeignet"
      ],
      "execution_count": null,
      "outputs": [
        {
          "output_type": "execute_result",
          "data": {
            "text/plain": [
              "<matplotlib.axes._subplots.AxesSubplot at 0x7f2f40258668>"
            ]
          },
          "metadata": {
            "tags": []
          },
          "execution_count": 439
        },
        {
          "output_type": "display_data",
          "data": {
            "image/png": "[encoded data removed]",
            "text/plain": [
              "<Figure size 432x288 with 1 Axes>"
            ]
          },
          "metadata": {
            "tags": [],
            "needs_background": "light"
          }
        }
      ]
    },
    {
      "cell_type": "markdown",
      "metadata": {
        "id": "NrAMvLjpOyCy"
      },
      "source": [
        "#Diese Daten sind nicht  für die Normalverteilung geeignet"
      ]
    },
    {
      "cell_type": "code",
      "metadata": {
        "id": "3BsNwjB97jMb",
        "colab": {
          "base_uri": "https://localhost:8080/",
          "height": 458
        },
        "outputId": "ea1858a0-3bd4-4796-faae-9e3376a163ba"
      },
      "source": [
        "sns.jointplot(e[\"market_value\"], e[\"page_views\"], data = e)#Korelationplots zwischen makret_value und page_views"
      ],
      "execution_count": null,
      "outputs": [
        {
          "output_type": "execute_result",
          "data": {
            "text/plain": [
              "<seaborn.axisgrid.JointGrid at 0x7f2f4020f9b0>"
            ]
          },
          "metadata": {
            "tags": []
          },
          "execution_count": 440
        },
        {
          "output_type": "display_data",
          "data": {
            "image/png": "[encoded data removed]",
            "text/plain": [
              "<Figure size 432x432 with 3 Axes>"
            ]
          },
          "metadata": {
            "tags": [],
            "needs_background": "light"
          }
        }
      ]
    },
    {
      "cell_type": "markdown",
      "metadata": {
        "id": "EZD5spm1S-uf"
      },
      "source": [
        "#Korelationplots zwischen makret_value und page_views"
      ]
    },
    {
      "cell_type": "code",
      "metadata": {
        "id": "UM_bqHwdS37x",
        "colab": {
          "base_uri": "https://localhost:8080/",
          "height": 282
        },
        "outputId": "014c55fe-92d0-4334-b8ce-342f316ad247"
      },
      "source": [
        "sns.stripplot(x=\"age\", y=\"market_value\", data=e, jitter=True);#Häufigkeitplots zwischen makret_value und page_views"
      ],
      "execution_count": null,
      "outputs": [
        {
          "output_type": "display_data",
          "data": {
            "image/png": "[encoded data removed]",
            "text/plain": [
              "<Figure size 432x288 with 1 Axes>"
            ]
          },
          "metadata": {
            "tags": [],
            "needs_background": "light"
          }
        }
      ]
    },
    {
      "cell_type": "markdown",
      "metadata": {
        "id": "IbGPts__SsMQ"
      },
      "source": [
        "Häufigkeitsplots zwischen makret_value und page_views"
      ]
    },
    {
      "cell_type": "code",
      "metadata": {
        "id": "o2aCHGACR7wJ",
        "colab": {
          "base_uri": "https://localhost:8080/",
          "height": 458
        },
        "outputId": "672deea9-f429-45f6-b208-56d44222d3d3"
      },
      "source": [
        "sns.jointplot(x='page_views',y='market_value',data=e,kind='reg')\n",
        "#Korelationplots zwischen makret_value und page_views.Wir können mit diesem Bild Outliers Werte sehen"
      ],
      "execution_count": null,
      "outputs": [
        {
          "output_type": "execute_result",
          "data": {
            "text/plain": [
              "<seaborn.axisgrid.JointGrid at 0x7f2f401224a8>"
            ]
          },
          "metadata": {
            "tags": []
          },
          "execution_count": 442
        },
        {
          "output_type": "display_data",
          "data": {
            "image/png": "[encoded data removed]",
            "text/plain": [
              "<Figure size 432x432 with 3 Axes>"
            ]
          },
          "metadata": {
            "tags": [],
            "needs_background": "light"
          }
        }
      ]
    },
    {
      "cell_type": "markdown",
      "metadata": {
        "id": "QEaocjt_TidB"
      },
      "source": [
        "#Korelationplots zwischen makret_value und page_views.\n",
        "#wir können mit diesem Bild Outliers Werte sehen"
      ]
    },
    {
      "cell_type": "code",
      "metadata": {
        "id": "zmBIxCkI_RA_",
        "colab": {
          "base_uri": "https://localhost:8080/",
          "height": 344
        },
        "outputId": "bbaa3a41-db66-465a-e76b-2a447c3cf1fb"
      },
      "source": [
        "sns.heatmap(e.corr(),annot= True)# Der Zweck der Betrachtung dieser Heatmap besteht darin, die Stärke der Beziehung zwischen den beiden Werten zu ermitteln. Der Wert, der diese Beziehung zeigt, ist der Korrelationskoeffizient. Beispielsweise beträgt der Korrelationskoeffizient von market_value und page_views 0,74. Es besteht also eine starke Korrelation zwischen model_value und page_views."
      ],
      "execution_count": null,
      "outputs": [
        {
          "output_type": "execute_result",
          "data": {
            "text/plain": [
              "<matplotlib.axes._subplots.AxesSubplot at 0x7f2f3fd8ffd0>"
            ]
          },
          "metadata": {
            "tags": []
          },
          "execution_count": 443
        },
        {
          "output_type": "display_data",
          "data": {
            "image/png": "[encoded data removed]",
            "text/plain": [
              "<Figure size 432x288 with 2 Axes>"
            ]
          },
          "metadata": {
            "tags": [],
            "needs_background": "light"
          }
        }
      ]
    },
    {
      "cell_type": "markdown",
      "metadata": {
        "id": "N8LrlGnrSj2S"
      },
      "source": [
        "\n",
        "Der Zweck der Betrachtung dieser Heatmap besteht darin, die Stärke der Beziehung zwischen den beiden Werten zu ermitteln. Der Wert, der diese Beziehung zeigt, ist der Korrelationskoeffizient. Beispielsweise beträgt der Korrelationskoeffizient von market_value und page_views 0,74. Es besteht also eine starke Korrelation zwischen model_value und page_views. "
      ]
    },
    {
      "cell_type": "markdown",
      "metadata": {
        "id": "4X7uj6dohi6l"
      },
      "source": [
        "**CENTRAL TENDENCY**\n",
        "\n",
        "Compute and interpret the 3 measures of center\n",
        "for distributions: the mean, median, and mode"
      ]
    },
    {
      "cell_type": "code",
      "metadata": {
        "id": "t1Htt-OizhTa",
        "colab": {
          "base_uri": "https://localhost:8080/",
          "height": 918
        },
        "outputId": "60c10732-9907-4e3e-d233-9d541aa38d0e"
      },
      "source": [
        " e=pd.read_csv(\"/datasets_1808_3130_epldata_final.csv\")\n",
        "print(e.mean(axis=0))\n",
        "print(e.std(axis=0))\n",
        "print(e.median(axis=0))\n",
        "print(e.mode(axis=0))\n",
        "#Mod, Median, Standardabweichung, Mittelwerte der Daten"
      ],
      "execution_count": null,
      "outputs": [
        {
          "output_type": "stream",
          "text": [
            "age              26.8048\n",
            "position_cat      2.1800\n",
            "market_value     11.0120\n",
            "page_views      763.7766\n",
            "fpl_value         5.4479\n",
            "fpl_points       57.3145\n",
            "region            1.9935\n",
            "new_foreign       0.0347\n",
            "age_cat           3.2061\n",
            "club_id          10.3341\n",
            "big_club          0.3037\n",
            "new_signing       0.1453\n",
            "dtype: float64\n",
            "age               3.9619\n",
            "position_cat      1.0001\n",
            "market_value     12.2574\n",
            "page_views      931.8058\n",
            "fpl_value         1.3467\n",
            "fpl_points       53.1138\n",
            "region            0.9577\n",
            "new_foreign       0.1832\n",
            "age_cat           1.2798\n",
            "club_id           5.7265\n",
            "big_club          0.4603\n",
            "new_signing       0.3528\n",
            "dtype: float64\n",
            "age              27.0\n",
            "position_cat      2.0\n",
            "market_value      7.0\n",
            "page_views      460.0\n",
            "fpl_value         5.0\n",
            "fpl_points       51.0\n",
            "region            2.0\n",
            "new_foreign       0.0\n",
            "age_cat           3.0\n",
            "club_id          10.0\n",
            "big_club          0.0\n",
            "new_signing       0.0\n",
            "dtype: float64\n",
            "                   name          club   age  ... club_id  big_club  new_signing\n",
            "0       Aaron Cresswell       Arsenal  27.0  ...     1.0       0.0          0.0\n",
            "1          Aaron Lennon       Everton   NaN  ...     7.0       NaN          NaN\n",
            "2            Aaron Mooy  Huddersfield   NaN  ...     8.0       NaN          NaN\n",
            "3          Aaron Ramsey           NaN   NaN  ...     NaN       NaN          NaN\n",
            "4    Abdoulaye Doucoure           NaN   NaN  ...     NaN       NaN          NaN\n",
            "..                  ...           ...   ...  ...     ...       ...          ...\n",
            "456        Yohan Cabaye           NaN   NaN  ...     NaN       NaN          NaN\n",
            "457      YounÃ¨s Kaboul           NaN   NaN  ...     NaN       NaN          NaN\n",
            "458     Ã‰tienne Capoue           NaN   NaN  ...     NaN       NaN          NaN\n",
            "459       Ã€ngel Rangel           NaN   NaN  ...     NaN       NaN          NaN\n",
            "460  Åukasz FabiaÅ„ski           NaN   NaN  ...     NaN       NaN          NaN\n",
            "\n",
            "[461 rows x 17 columns]\n"
          ],
          "name": "stdout"
        }
      ]
    },
    {
      "cell_type": "markdown",
      "metadata": {
        "id": "gPeG1_E4UF4e"
      },
      "source": [
        "#Mod, Median, Standardabweichung , Mittelwerte der Daten"
      ]
    },
    {
      "cell_type": "code",
      "metadata": {
        "id": "yQrZWfGMPUtM",
        "colab": {
          "base_uri": "https://localhost:8080/",
          "height": 238
        },
        "outputId": "a3166400-0497-477f-d461-19cab1dcfe31"
      },
      "source": [
        "print(e.mean(axis=0))#Mittelwerte"
      ],
      "execution_count": null,
      "outputs": [
        {
          "output_type": "stream",
          "text": [
            "age              26.8048\n",
            "position_cat      2.1800\n",
            "market_value     11.0120\n",
            "page_views      763.7766\n",
            "fpl_value         5.4479\n",
            "fpl_points       57.3145\n",
            "region            1.9935\n",
            "new_foreign       0.0347\n",
            "age_cat           3.2061\n",
            "club_id          10.3341\n",
            "big_club          0.3037\n",
            "new_signing       0.1453\n",
            "dtype: float64\n"
          ],
          "name": "stdout"
        }
      ]
    },
    {
      "cell_type": "code",
      "metadata": {
        "id": "Ifu7f6cuO_7Z",
        "colab": {
          "base_uri": "https://localhost:8080/",
          "height": 238
        },
        "outputId": "716580f0-84d1-4e49-e9d7-ae18a44a3bf2"
      },
      "source": [
        "print(e.std(axis=0))#Standardabweichung"
      ],
      "execution_count": null,
      "outputs": [
        {
          "output_type": "stream",
          "text": [
            "age               3.9619\n",
            "position_cat      1.0001\n",
            "market_value     12.2574\n",
            "page_views      931.8058\n",
            "fpl_value         1.3467\n",
            "fpl_points       53.1138\n",
            "region            0.9577\n",
            "new_foreign       0.1832\n",
            "age_cat           1.2798\n",
            "club_id           5.7265\n",
            "big_club          0.4603\n",
            "new_signing       0.3528\n",
            "dtype: float64\n"
          ],
          "name": "stdout"
        }
      ]
    },
    {
      "cell_type": "code",
      "metadata": {
        "id": "H2bCccZePCpn",
        "colab": {
          "base_uri": "https://localhost:8080/",
          "height": 238
        },
        "outputId": "b4bd269f-64ea-40da-99c5-25bb5b753b22"
      },
      "source": [
        "print(e.median(axis=0))#Median"
      ],
      "execution_count": null,
      "outputs": [
        {
          "output_type": "stream",
          "text": [
            "age              27.0\n",
            "position_cat      2.0\n",
            "market_value      7.0\n",
            "page_views      460.0\n",
            "fpl_value         5.0\n",
            "fpl_points       51.0\n",
            "region            2.0\n",
            "new_foreign       0.0\n",
            "age_cat           3.0\n",
            "club_id          10.0\n",
            "big_club          0.0\n",
            "new_signing       0.0\n",
            "dtype: float64\n"
          ],
          "name": "stdout"
        }
      ]
    },
    {
      "cell_type": "code",
      "metadata": {
        "id": "Mc5yMcrfPQ3o",
        "colab": {
          "base_uri": "https://localhost:8080/",
          "height": 255
        },
        "outputId": "230c5c18-5e3d-4e85-e486-4e2138d609f8"
      },
      "source": [
        "print(e.mode(axis=0))#Mod"
      ],
      "execution_count": null,
      "outputs": [
        {
          "output_type": "stream",
          "text": [
            "                   name          club   age  ... club_id  big_club  new_signing\n",
            "0       Aaron Cresswell       Arsenal  27.0  ...     1.0       0.0          0.0\n",
            "1          Aaron Lennon       Everton   NaN  ...     7.0       NaN          NaN\n",
            "2            Aaron Mooy  Huddersfield   NaN  ...     8.0       NaN          NaN\n",
            "3          Aaron Ramsey           NaN   NaN  ...     NaN       NaN          NaN\n",
            "4    Abdoulaye Doucoure           NaN   NaN  ...     NaN       NaN          NaN\n",
            "..                  ...           ...   ...  ...     ...       ...          ...\n",
            "456        Yohan Cabaye           NaN   NaN  ...     NaN       NaN          NaN\n",
            "457      YounÃ¨s Kaboul           NaN   NaN  ...     NaN       NaN          NaN\n",
            "458     Ã‰tienne Capoue           NaN   NaN  ...     NaN       NaN          NaN\n",
            "459       Ã€ngel Rangel           NaN   NaN  ...     NaN       NaN          NaN\n",
            "460  Åukasz FabiaÅ„ski           NaN   NaN  ...     NaN       NaN          NaN\n",
            "\n",
            "[461 rows x 17 columns]\n"
          ],
          "name": "stdout"
        }
      ]
    },
    {
      "cell_type": "code",
      "metadata": {
        "id": "qtEiKUmLM16X",
        "colab": {
          "base_uri": "https://localhost:8080/",
          "height": 306
        },
        "outputId": "27b27bc5-fae1-4d2b-925c-1d32f90d9690"
      },
      "source": [
        "e=pd.read_csv(\"/datasets_1808_3130_epldata_final.csv\")\n",
        "print(e.age.mode())\n",
        "print(e.market_value.mode())\n",
        "print(e.page_views.mode())"
      ],
      "execution_count": null,
      "outputs": [
        {
          "output_type": "stream",
          "text": [
            "0    27\n",
            "dtype: int64\n",
            "0    5.0\n",
            "dtype: float64\n",
            "0     116\n",
            "1     126\n",
            "2     134\n",
            "3     154\n",
            "4     238\n",
            "5     242\n",
            "6     327\n",
            "7     338\n",
            "8     454\n",
            "9     458\n",
            "10    461\n",
            "11    566\n",
            "dtype: int64\n"
          ],
          "name": "stdout"
        }
      ]
    },
    {
      "cell_type": "code",
      "metadata": {
        "id": "l2hbTvMdQZp3",
        "colab": {
          "base_uri": "https://localhost:8080/",
          "height": 663
        },
        "outputId": "32db8156-fb86-4968-be46-ae1e7c5e106a"
      },
      "source": [
        "print(e.describe())\n",
        "print(e.market_value.describe())\n",
        "print(e.age.describe())\n",
        "print(e.page_views.describe())\n",
        "#ALLE WERTE DER DATEN"
      ],
      "execution_count": null,
      "outputs": [
        {
          "output_type": "stream",
          "text": [
            "            age  position_cat  market_value  ...   club_id  big_club  new_signing\n",
            "count  461.0000      461.0000      461.0000  ...  461.0000  461.0000     461.0000\n",
            "mean    26.8048        2.1800       11.0120  ...   10.3341    0.3037       0.1453\n",
            "std      3.9619        1.0001       12.2574  ...    5.7265    0.4603       0.3528\n",
            "min     17.0000        1.0000        0.0500  ...    1.0000    0.0000       0.0000\n",
            "25%     24.0000        1.0000        3.0000  ...    6.0000    0.0000       0.0000\n",
            "50%     27.0000        2.0000        7.0000  ...   10.0000    0.0000       0.0000\n",
            "75%     30.0000        3.0000       15.0000  ...   15.0000    1.0000       0.0000\n",
            "max     38.0000        4.0000       75.0000  ...   20.0000    1.0000       1.0000\n",
            "\n",
            "[8 rows x 12 columns]\n",
            "count    461.0000\n",
            "mean      11.0120\n",
            "std       12.2574\n",
            "min        0.0500\n",
            "25%        3.0000\n",
            "50%        7.0000\n",
            "75%       15.0000\n",
            "max       75.0000\n",
            "Name: market_value, dtype: float64\n",
            "count    461.0000\n",
            "mean      26.8048\n",
            "std        3.9619\n",
            "min       17.0000\n",
            "25%       24.0000\n",
            "50%       27.0000\n",
            "75%       30.0000\n",
            "max       38.0000\n",
            "Name: age, dtype: float64\n",
            "count     461.0000\n",
            "mean      763.7766\n",
            "std       931.8058\n",
            "min         3.0000\n",
            "25%       220.0000\n",
            "50%       460.0000\n",
            "75%       896.0000\n",
            "max      7664.0000\n",
            "Name: page_views, dtype: float64\n"
          ],
          "name": "stdout"
        }
      ]
    },
    {
      "cell_type": "markdown",
      "metadata": {
        "id": "QwIz-xCbUujv"
      },
      "source": [
        "#ALLE WERTE DER DATEN"
      ]
    },
    {
      "cell_type": "code",
      "metadata": {
        "id": "qZKRigUQVWXt",
        "colab": {
          "base_uri": "https://localhost:8080/",
          "height": 299
        },
        "outputId": "f0fd89dd-3675-4421-ffff-f8da729974bd"
      },
      "source": [
        "sns.stripplot(x =  \"age\", y = \"market_value\", data = e,color = \"red\")\n",
        "#Häufigkeitplots zwischen makret_value und age"
      ],
      "execution_count": null,
      "outputs": [
        {
          "output_type": "execute_result",
          "data": {
            "text/plain": [
              "<matplotlib.axes._subplots.AxesSubplot at 0x7f2f3fb99a90>"
            ]
          },
          "metadata": {
            "tags": []
          },
          "execution_count": 451
        },
        {
          "output_type": "display_data",
          "data": {
            "image/png": "[encoded data removed]",
            "text/plain": [
              "<Figure size 432x288 with 1 Axes>"
            ]
          },
          "metadata": {
            "tags": [],
            "needs_background": "light"
          }
        }
      ]
    },
    {
      "cell_type": "markdown",
      "metadata": {
        "id": "1VJTL0ZLU_oF"
      },
      "source": [
        "#Häufigkeitplots zwischen makret_value und age"
      ]
    },
    {
      "cell_type": "markdown",
      "metadata": {
        "id": "YW-3BJb_h0DK"
      },
      "source": [
        "**VARIABILITY**\n",
        "\n",
        "Quantify the spread of data using the range and standard deviation\n",
        "Identify outliers in data sets using the interquartile range"
      ]
    },
    {
      "cell_type": "code",
      "metadata": {
        "id": "iqyTGn47Q-Xg",
        "colab": {
          "base_uri": "https://localhost:8080/",
          "height": 224
        },
        "outputId": "20bb24a5-690e-48e8-a5ae-6ada1d211b36"
      },
      "source": [
        "e=pd.read_csv(\"/datasets_1808_3130_epldata_final.csv\")\n",
        "df=e.copy()\n",
        "df=df.select_dtypes(include = ['float64','int64'])\n",
        "df.head()\n"
      ],
      "execution_count": null,
      "outputs": [
        {
          "output_type": "execute_result",
          "data": {
            "text/html": [
              "<div>\n",
              "<style scoped>\n",
              "    .dataframe tbody tr th:only-of-type {\n",
              "        vertical-align: middle;\n",
              "    }\n",
              "\n",
              "    .dataframe tbody tr th {\n",
              "        vertical-align: top;\n",
              "    }\n",
              "\n",
              "    .dataframe thead th {\n",
              "        text-align: right;\n",
              "    }\n",
              "</style>\n",
              "<table border=\"1\" class=\"dataframe\">\n",
              "  <thead>\n",
              "    <tr style=\"text-align: right;\">\n",
              "      <th></th>\n",
              "      <th>age</th>\n",
              "      <th>position_cat</th>\n",
              "      <th>market_value</th>\n",
              "      <th>page_views</th>\n",
              "      <th>fpl_value</th>\n",
              "      <th>fpl_points</th>\n",
              "      <th>region</th>\n",
              "      <th>new_foreign</th>\n",
              "      <th>age_cat</th>\n",
              "      <th>club_id</th>\n",
              "      <th>big_club</th>\n",
              "      <th>new_signing</th>\n",
              "    </tr>\n",
              "  </thead>\n",
              "  <tbody>\n",
              "    <tr>\n",
              "      <th>0</th>\n",
              "      <td>28</td>\n",
              "      <td>1</td>\n",
              "      <td>65.0</td>\n",
              "      <td>4329</td>\n",
              "      <td>12.0</td>\n",
              "      <td>264</td>\n",
              "      <td>3.0</td>\n",
              "      <td>0</td>\n",
              "      <td>4</td>\n",
              "      <td>1</td>\n",
              "      <td>1</td>\n",
              "      <td>0</td>\n",
              "    </tr>\n",
              "    <tr>\n",
              "      <th>1</th>\n",
              "      <td>28</td>\n",
              "      <td>1</td>\n",
              "      <td>50.0</td>\n",
              "      <td>4395</td>\n",
              "      <td>9.5</td>\n",
              "      <td>167</td>\n",
              "      <td>2.0</td>\n",
              "      <td>0</td>\n",
              "      <td>4</td>\n",
              "      <td>1</td>\n",
              "      <td>1</td>\n",
              "      <td>0</td>\n",
              "    </tr>\n",
              "    <tr>\n",
              "      <th>2</th>\n",
              "      <td>35</td>\n",
              "      <td>4</td>\n",
              "      <td>7.0</td>\n",
              "      <td>1529</td>\n",
              "      <td>5.5</td>\n",
              "      <td>134</td>\n",
              "      <td>2.0</td>\n",
              "      <td>0</td>\n",
              "      <td>6</td>\n",
              "      <td>1</td>\n",
              "      <td>1</td>\n",
              "      <td>0</td>\n",
              "    </tr>\n",
              "    <tr>\n",
              "      <th>3</th>\n",
              "      <td>28</td>\n",
              "      <td>1</td>\n",
              "      <td>20.0</td>\n",
              "      <td>2393</td>\n",
              "      <td>7.5</td>\n",
              "      <td>122</td>\n",
              "      <td>1.0</td>\n",
              "      <td>0</td>\n",
              "      <td>4</td>\n",
              "      <td>1</td>\n",
              "      <td>1</td>\n",
              "      <td>0</td>\n",
              "    </tr>\n",
              "    <tr>\n",
              "      <th>4</th>\n",
              "      <td>31</td>\n",
              "      <td>3</td>\n",
              "      <td>22.0</td>\n",
              "      <td>912</td>\n",
              "      <td>6.0</td>\n",
              "      <td>121</td>\n",
              "      <td>2.0</td>\n",
              "      <td>0</td>\n",
              "      <td>4</td>\n",
              "      <td>1</td>\n",
              "      <td>1</td>\n",
              "      <td>0</td>\n",
              "    </tr>\n",
              "  </tbody>\n",
              "</table>\n",
              "</div>"
            ],
            "text/plain": [
              "   age  position_cat  market_value  ...  club_id  big_club  new_signing\n",
              "0   28             1          65.0  ...        1         1            0\n",
              "1   28             1          50.0  ...        1         1            0\n",
              "2   35             4           7.0  ...        1         1            0\n",
              "3   28             1          20.0  ...        1         1            0\n",
              "4   31             3          22.0  ...        1         1            0\n",
              "\n",
              "[5 rows x 12 columns]"
            ]
          },
          "metadata": {
            "tags": []
          },
          "execution_count": 452
        }
      ]
    },
    {
      "cell_type": "code",
      "metadata": {
        "id": "u2v02_9aQNS1",
        "colab": {
          "base_uri": "https://localhost:8080/",
          "height": 323
        },
        "outputId": "d6396d70-62a9-4079-a7a5-4e477a717aa7"
      },
      "source": [
        "print(e.min())#Min Wert"
      ],
      "execution_count": null,
      "outputs": [
        {
          "output_type": "stream",
          "text": [
            "name            Aaron Cresswell\n",
            "club                    Arsenal\n",
            "age                          17\n",
            "position                     AM\n",
            "position_cat                  1\n",
            "market_value               0.05\n",
            "page_views                    3\n",
            "fpl_value                     4\n",
            "fpl_sel                   0.00%\n",
            "fpl_points                    0\n",
            "region                        1\n",
            "nationality             Algeria\n",
            "new_foreign                   0\n",
            "age_cat                       1\n",
            "club_id                       1\n",
            "big_club                      0\n",
            "new_signing                   0\n",
            "dtype: object\n"
          ],
          "name": "stdout"
        }
      ]
    },
    {
      "cell_type": "markdown",
      "metadata": {
        "id": "h5Xd3MoEVLIk"
      },
      "source": [
        "#Min Wert"
      ]
    },
    {
      "cell_type": "code",
      "metadata": {
        "id": "LNrvdmy5Ptcn",
        "colab": {
          "base_uri": "https://localhost:8080/",
          "height": 323
        },
        "outputId": "91700dff-9f86-45c1-deb8-ebd3f4efca3b"
      },
      "source": [
        "print(e.max())#Max Wert"
      ],
      "execution_count": null,
      "outputs": [
        {
          "output_type": "stream",
          "text": [
            "name            Åukasz FabiaÅ„ski\n",
            "club                      West+Ham\n",
            "age                             38\n",
            "position                        SS\n",
            "position_cat                     4\n",
            "market_value                    75\n",
            "page_views                    7664\n",
            "fpl_value                     12.5\n",
            "fpl_sel                      9.70%\n",
            "fpl_points                     264\n",
            "region                           4\n",
            "nationality                  Wales\n",
            "new_foreign                      1\n",
            "age_cat                          6\n",
            "club_id                         20\n",
            "big_club                         1\n",
            "new_signing                      1\n",
            "dtype: object\n"
          ],
          "name": "stdout"
        }
      ]
    },
    {
      "cell_type": "markdown",
      "metadata": {
        "id": "QgHD09JkVP9w"
      },
      "source": [
        "#Max Wert"
      ]
    },
    {
      "cell_type": "code",
      "metadata": {
        "id": "O24B7P4rBkrR",
        "colab": {
          "base_uri": "https://localhost:8080/",
          "height": 34
        },
        "outputId": "85b897ae-205e-46be-ad5e-977853721e55"
      },
      "source": [
        "a= e['market_value'].max() - e['market_value'].min()\n",
        "print(a) #range"
      ],
      "execution_count": null,
      "outputs": [
        {
          "output_type": "stream",
          "text": [
            "74.95\n"
          ],
          "name": "stdout"
        }
      ]
    },
    {
      "cell_type": "markdown",
      "metadata": {
        "id": "a-FoZUE7VkvG"
      },
      "source": [
        "#range"
      ]
    },
    {
      "cell_type": "code",
      "metadata": {
        "id": "j-bPbBKfRq8w",
        "colab": {
          "base_uri": "https://localhost:8080/",
          "height": 299
        },
        "outputId": "9eaa5ce0-48df-4c65-b879-48c354273a27"
      },
      "source": [
        "df_table=df[\"market_value\"].copy()\n",
        "sns.boxplot(x=df_table)#boxplot der market_value.Outliers sind deutlich sichtbar\n"
      ],
      "execution_count": null,
      "outputs": [
        {
          "output_type": "execute_result",
          "data": {
            "text/plain": [
              "<matplotlib.axes._subplots.AxesSubplot at 0x7f2f3fb325c0>"
            ]
          },
          "metadata": {
            "tags": []
          },
          "execution_count": 456
        },
        {
          "output_type": "display_data",
          "data": {
            "image/png": "[encoded data removed]",
            "text/plain": [
              "<Figure size 432x288 with 1 Axes>"
            ]
          },
          "metadata": {
            "tags": [],
            "needs_background": "light"
          }
        }
      ]
    },
    {
      "cell_type": "markdown",
      "metadata": {
        "id": "RX6iPngqV9yt"
      },
      "source": [
        "#Boxplot der market_value.Outliers sind deutlich sichtbar"
      ]
    },
    {
      "cell_type": "code",
      "metadata": {
        "id": "CWtfcTdfRxC8",
        "colab": {
          "base_uri": "https://localhost:8080/",
          "height": 102
        },
        "outputId": "ce8021e0-967f-42dc-f96d-a6ccf28c5557"
      },
      "source": [
        "Q1=df_table.quantile(0.25)# \n",
        "Q3=df_table.quantile(0.75)#\n",
        "IQR = Q3-Q1   #Berechnung der Interquartilspanne\n",
        "lower_bound =Q1- (1.5*IQR)\n",
        "upper_bound= Q3+ (1.5*IQR)\n",
        "print(\"lower bound is\", str(lower_bound))\n",
        "print(\"upper bound is\", str(upper_bound))\n",
        "print(Q1)\n",
        "print(Q3)\n",
        "print(IQR)"
      ],
      "execution_count": null,
      "outputs": [
        {
          "output_type": "stream",
          "text": [
            "lower bound is -15.0\n",
            "upper bound is 33.0\n",
            "3.0\n",
            "15.0\n",
            "12.0\n"
          ],
          "name": "stdout"
        }
      ]
    },
    {
      "cell_type": "markdown",
      "metadata": {
        "id": "-XrhxU0KWXPc"
      },
      "source": [
        "\n",
        "Berechnung der Interquartilspanne"
      ]
    },
    {
      "cell_type": "code",
      "metadata": {
        "id": "dOYOKwIvUif3",
        "colab": {
          "base_uri": "https://localhost:8080/",
          "height": 221
        },
        "outputId": "b644efb6-f126-4d34-c520-bce111fc5684"
      },
      "source": [
        "(df_table < (lower_bound)) | (df_table > (upper_bound))"
      ],
      "execution_count": null,
      "outputs": [
        {
          "output_type": "execute_result",
          "data": {
            "text/plain": [
              "0       True\n",
              "1       True\n",
              "2      False\n",
              "3      False\n",
              "4      False\n",
              "       ...  \n",
              "456    False\n",
              "457    False\n",
              "458    False\n",
              "459    False\n",
              "460    False\n",
              "Name: market_value, Length: 461, dtype: bool"
            ]
          },
          "metadata": {
            "tags": []
          },
          "execution_count": 458
        }
      ]
    },
    {
      "cell_type": "code",
      "metadata": {
        "id": "f4OSK5twTznS",
        "colab": {
          "base_uri": "https://localhost:8080/",
          "height": 221
        },
        "outputId": "e1c2d48b-b247-4648-e7db-1f1ae9e61e81"
      },
      "source": [
        "outliers_vector = (df_table < (lower_bound)) | (df_table > (upper_bound))\n",
        "outliers_vector"
      ],
      "execution_count": null,
      "outputs": [
        {
          "output_type": "execute_result",
          "data": {
            "text/plain": [
              "0       True\n",
              "1       True\n",
              "2      False\n",
              "3      False\n",
              "4      False\n",
              "       ...  \n",
              "456    False\n",
              "457    False\n",
              "458    False\n",
              "459    False\n",
              "460    False\n",
              "Name: market_value, Length: 461, dtype: bool"
            ]
          },
          "metadata": {
            "tags": []
          },
          "execution_count": 459
        }
      ]
    },
    {
      "cell_type": "code",
      "metadata": {
        "id": "E2etNgcAVAa4",
        "colab": {
          "base_uri": "https://localhost:8080/",
          "height": 85
        },
        "outputId": "c1a007bc-5941-41c0-aa41-69eef4dea34c"
      },
      "source": [
        "outliers = df_table[outliers_vector]\n",
        "outliers.index     #İndex von Qutliers"
      ],
      "execution_count": null,
      "outputs": [
        {
          "output_type": "execute_result",
          "data": {
            "text/plain": [
              "Int64Index([  0,   1,  10,  13,  27,  92,  93,  98, 100, 103, 104, 213, 214,\n",
              "            215, 237, 240, 241, 242, 245, 252, 259, 260, 261, 263, 271, 376,\n",
              "            377, 378, 382],\n",
              "           dtype='int64')"
            ]
          },
          "metadata": {
            "tags": []
          },
          "execution_count": 460
        }
      ]
    },
    {
      "cell_type": "markdown",
      "metadata": {
        "id": "KmW-D2A4WmtO"
      },
      "source": [
        "#İndex von Qutliers"
      ]
    },
    {
      "cell_type": "code",
      "metadata": {
        "id": "w86ml63pVFE0",
        "colab": {
          "base_uri": "https://localhost:8080/",
          "height": 34
        },
        "outputId": "22c2f9b6-72c0-48f6-8909-b77700d70ef9"
      },
      "source": [
        "df_table.shape"
      ],
      "execution_count": null,
      "outputs": [
        {
          "output_type": "execute_result",
          "data": {
            "text/plain": [
              "(461,)"
            ]
          },
          "metadata": {
            "tags": []
          },
          "execution_count": 461
        }
      ]
    },
    {
      "cell_type": "code",
      "metadata": {
        "id": "SOIvKrxL95eB"
      },
      "source": [
        "clean_df_table = df_table[~((df_table<(lower_bound)) | (df_table > (upper_bound)))]#Outliers aus Daten löschen"
      ],
      "execution_count": null,
      "outputs": []
    },
    {
      "cell_type": "markdown",
      "metadata": {
        "id": "68zLVPvCW_jF"
      },
      "source": [
        "\n",
        "Outliers aus Daten löschen"
      ]
    },
    {
      "cell_type": "code",
      "metadata": {
        "id": "vbpPUFwW-TA-",
        "colab": {
          "base_uri": "https://localhost:8080/",
          "height": 34
        },
        "outputId": "ef40c365-6e16-45b7-f1ea-cfd5077f326f"
      },
      "source": [
        "clean_df_table.shape"
      ],
      "execution_count": null,
      "outputs": [
        {
          "output_type": "execute_result",
          "data": {
            "text/plain": [
              "(432,)"
            ]
          },
          "metadata": {
            "tags": []
          },
          "execution_count": 463
        }
      ]
    },
    {
      "cell_type": "code",
      "metadata": {
        "id": "6zkP0jvAVUsQ",
        "colab": {
          "base_uri": "https://localhost:8080/",
          "height": 54
        },
        "outputId": "c9a30b15-217d-44f7-de31-6a7c573ff611"
      },
      "source": [
        "print(df_table[0],df_table[1],df_table[10],df_table[13],df_table[27],df_table[92],df_table[93],df_table[98],df_table[100],df_table[103],df_table[104],df_table[213],df_table[214],df_table[215],df_table[237],df_table[240],df_table[241],df_table[242],df_table[245],df_table[252],df_table[259],df_table[260],df_table[261],df_table[263],df_table[271],df_table[376],df_table[377],df_table[378],df_table[382])"
      ],
      "execution_count": null,
      "outputs": [
        {
          "output_type": "stream",
          "text": [
            "65.0 50.0 35.0 35.0 40.0 75.0 50.0 40.0 35.0 35.0 50.0 38.0 45.0 40.0 35.0 65.0 65.0 45.0 35.0 35.0 40.0 50.0 40.0 75.0 35.0 45.0 60.0 40.0 35.0\n"
          ],
          "name": "stdout"
        }
      ]
    },
    {
      "cell_type": "markdown",
      "metadata": {
        "id": "DHdQuC16ZKY2"
      },
      "source": [
        "Wert der Outliers"
      ]
    },
    {
      "cell_type": "code",
      "metadata": {
        "id": "guvrGIFW-Y5U",
        "colab": {
          "base_uri": "https://localhost:8080/",
          "height": 299
        },
        "outputId": "1a85183c-2183-4f74-a44c-8df761617a42"
      },
      "source": [
        "sns.boxplot(x=clean_df_table)#Boxplot erstellt durch Löschen von Outliers"
      ],
      "execution_count": null,
      "outputs": [
        {
          "output_type": "execute_result",
          "data": {
            "text/plain": [
              "<matplotlib.axes._subplots.AxesSubplot at 0x7f2f3fa32ef0>"
            ]
          },
          "metadata": {
            "tags": []
          },
          "execution_count": 465
        },
        {
          "output_type": "display_data",
          "data": {
            "image/png": "[encoded data removed]",
            "text/plain": [
              "<Figure size 432x288 with 1 Axes>"
            ]
          },
          "metadata": {
            "tags": [],
            "needs_background": "light"
          }
        }
      ]
    },
    {
      "cell_type": "markdown",
      "metadata": {
        "id": "Ut1R9bqHZZDj"
      },
      "source": [
        "#Boxplot erstellt durch Löschen von Outliers"
      ]
    },
    {
      "cell_type": "code",
      "metadata": {
        "id": "W0TrYFK0Wx-c",
        "colab": {
          "base_uri": "https://localhost:8080/",
          "height": 299
        },
        "outputId": "1c2c0b1b-7533-40e3-ae62-4900a8a4b116"
      },
      "source": [
        "sns.boxplot(x=df_table)#Boxplot mit Outliers"
      ],
      "execution_count": null,
      "outputs": [
        {
          "output_type": "execute_result",
          "data": {
            "text/plain": [
              "<matplotlib.axes._subplots.AxesSubplot at 0x7f2f3fa1b8d0>"
            ]
          },
          "metadata": {
            "tags": []
          },
          "execution_count": 466
        },
        {
          "output_type": "display_data",
          "data": {
            "image/png": "[encoded data removed]",
            "text/plain": [
              "<Figure size 432x288 with 1 Axes>"
            ]
          },
          "metadata": {
            "tags": [],
            "needs_background": "light"
          }
        }
      ]
    },
    {
      "cell_type": "markdown",
      "metadata": {
        "id": "y2J1duiLZory"
      },
      "source": [
        "#Boxplot mit Outliers"
      ]
    },
    {
      "cell_type": "markdown",
      "metadata": {
        "id": "8MhpqI23iE0l"
      },
      "source": [
        "**STANDARDIZING**\n",
        "\n",
        "Convert distributions into the standard normal\n",
        "distribution using the Z-score\n",
        " Compute proportions using standardized distributions"
      ]
    },
    {
      "cell_type": "code",
      "metadata": {
        "id": "PKSc8GCRj22K",
        "colab": {
          "base_uri": "https://localhost:8080/",
          "height": 299
        },
        "outputId": "85605051-4cf7-42dc-a970-ddd9deaf033d"
      },
      "source": [
        "sns.distplot(e[\"age\"])#Normalverteilung der age"
      ],
      "execution_count": null,
      "outputs": [
        {
          "output_type": "execute_result",
          "data": {
            "text/plain": [
              "<matplotlib.axes._subplots.AxesSubplot at 0x7f2f3f994438>"
            ]
          },
          "metadata": {
            "tags": []
          },
          "execution_count": 467
        },
        {
          "output_type": "display_data",
          "data": {
            "image/png": "[encoded data removed]",
            "text/plain": [
              "<Figure size 432x288 with 1 Axes>"
            ]
          },
          "metadata": {
            "tags": [],
            "needs_background": "light"
          }
        }
      ]
    },
    {
      "cell_type": "markdown",
      "metadata": {
        "id": "mdxBeLEOZ6yw"
      },
      "source": [
        "\n",
        "#Normalverteilung der age"
      ]
    },
    {
      "cell_type": "code",
      "metadata": {
        "id": "o1BajqnIX9Sh",
        "colab": {
          "base_uri": "https://localhost:8080/",
          "height": 1000
        },
        "outputId": "b64a2c13-ef36-432f-f2b3-56909a13ac38"
      },
      "source": [
        "z=np.abs(stats.zscore(e['age']))#z Scores von age\n",
        "print(z)\n"
      ],
      "execution_count": null,
      "outputs": [
        {
          "output_type": "stream",
          "text": [
            "[0.30200882 0.30200882 2.07076099 0.30200882 1.06004546 1.21406448\n",
            " 0.80736658 1.06004546 0.45602783 1.46674336 0.70870671 0.96138559\n",
            " 0.45602783 0.20334895 0.20334895 0.20334895 0.04932993 1.31272434\n",
            " 0.20334895 1.46674336 0.45602783 0.30200882 0.70870671 0.30200882\n",
            " 0.45602783 1.31272434 0.70870671 0.20334895 0.45602783 1.81808211\n",
            " 0.80736658 2.57611875 0.20334895 0.04932993 0.20334895 0.96138559\n",
            " 1.31272434 0.70870671 0.04932993 0.80736658 0.45602783 1.21406448\n",
            " 0.04932993 0.80736658 1.46674336 1.71942224 1.46674336 1.31272434\n",
            " 0.5546877  0.70870671 0.96138559 0.80736658 1.31272434 0.45602783\n",
            " 0.45602783 0.45602783 1.06004546 2.32343987 0.5546877  1.56540323\n",
            " 0.70870671 0.80736658 0.45602783 0.04932993 0.5546877  1.81808211\n",
            " 0.96138559 0.45602783 0.20334895 0.04932993 0.20334895 1.56540323\n",
            " 0.80736658 0.30200882 1.06004546 0.04932993 0.20334895 0.04932993\n",
            " 1.06004546 0.30200882 0.04932993 0.45602783 0.30200882 0.5546877\n",
            " 1.56540323 0.30200882 0.20334895 0.45602783 0.70870671 0.04932993\n",
            " 0.20334895 2.07076099 0.20334895 0.30200882 1.06004546 0.20334895\n",
            " 0.04932993 0.5546877  0.45602783 0.80736658 0.80736658 0.30200882\n",
            " 0.20334895 0.30200882 0.20334895 2.07076099 0.96138559 1.21406448\n",
            " 1.46674336 1.81808211 0.70870671 1.21406448 0.70870671 0.20334895\n",
            " 0.20334895 0.20334895 0.5546877  0.80736658 1.06004546 1.06004546\n",
            " 0.04932993 0.30200882 0.80736658 2.32343987 0.70870671 0.04932993\n",
            " 0.20334895 0.5546877  0.70870671 0.5546877  0.04932993 1.46674336\n",
            " 2.82879764 0.96138559 1.31272434 0.30200882 1.31272434 0.5546877\n",
            " 0.70870671 1.81808211 0.96138559 0.04932993 0.04932993 1.06004546\n",
            " 0.20334895 1.81808211 2.32343987 1.97210112 1.71942224 0.30200882\n",
            " 0.04932993 0.04932993 0.20334895 0.80736658 1.71942224 1.97210112\n",
            " 1.21406448 1.71942224 0.70870671 0.70870671 1.21406448 1.46674336\n",
            " 0.30200882 0.04932993 0.30200882 0.45602783 0.20334895 0.80736658\n",
            " 1.46674336 2.07076099 0.04932993 0.20334895 0.20334895 0.20334895\n",
            " 0.30200882 1.46674336 0.70870671 0.45602783 2.07076099 0.70870671\n",
            " 0.20334895 0.45602783 0.45602783 1.71942224 0.20334895 0.04932993\n",
            " 0.20334895 0.30200882 1.21406448 0.80736658 0.20334895 0.80736658\n",
            " 1.06004546 0.04932993 1.31272434 0.80736658 0.5546877  0.70870671\n",
            " 0.04932993 1.56540323 1.06004546 1.71942224 1.46674336 1.21406448\n",
            " 0.30200882 0.70870671 0.80736658 0.80736658 1.71942224 0.45602783\n",
            " 0.5546877  0.20334895 0.5546877  0.45602783 0.45602783 0.45602783\n",
            " 0.20334895 1.06004546 0.5546877  0.20334895 0.5546877  0.30200882\n",
            " 0.96138559 0.45602783 1.21406448 0.04932993 0.04932993 0.80736658\n",
            " 1.06004546 0.04932993 0.70870671 2.22478    0.45602783 2.47745889\n",
            " 1.46674336 1.71942224 1.71942224 0.45602783 0.70870671 1.97210112\n",
            " 0.20334895 0.5546877  1.21406448 0.04932993 1.06004546 1.46674336\n",
            " 0.5546877  1.06004546 1.81808211 1.31272434 1.81808211 1.71942224\n",
            " 0.96138559 1.06004546 1.71942224 0.20334895 1.31272434 0.04932993\n",
            " 0.96138559 1.21406448 0.70870671 0.20334895 1.06004546 0.70870671\n",
            " 0.96138559 0.5546877  0.04932993 0.04932993 1.46674336 0.04932993\n",
            " 1.97210112 0.30200882 0.04932993 0.70870671 0.45602783 0.04932993\n",
            " 0.5546877  1.21406448 2.07076099 1.31272434 0.80736658 1.97210112\n",
            " 1.97210112 1.46674336 0.96138559 1.06004546 0.20334895 0.70870671\n",
            " 0.04932993 0.04932993 0.45602783 0.45602783 1.31272434 0.20334895\n",
            " 0.70870671 0.04932993 0.45602783 0.80736658 0.04932993 0.45602783\n",
            " 0.30200882 1.46674336 0.20334895 0.96138559 1.21406448 1.81808211\n",
            " 0.5546877  0.96138559 0.04932993 0.30200882 0.45602783 1.21406448\n",
            " 0.45602783 0.30200882 1.31272434 0.20334895 0.30200882 0.96138559\n",
            " 0.80736658 0.96138559 0.20334895 1.46674336 0.45602783 1.21406448\n",
            " 1.46674336 1.71942224 0.30200882 1.46674336 1.46674336 0.04932993\n",
            " 0.30200882 1.81808211 0.30200882 0.80736658 0.5546877  0.45602783\n",
            " 2.32343987 1.56540323 1.06004546 1.31272434 1.31272434 0.5546877\n",
            " 1.71942224 0.45602783 0.20334895 1.31272434 0.96138559 0.70870671\n",
            " 0.70870671 1.06004546 2.22478    0.04932993 1.31272434 1.31272434\n",
            " 0.04932993 0.96138559 0.30200882 1.31272434 0.30200882 0.5546877\n",
            " 0.45602783 0.30200882 0.45602783 0.70870671 1.81808211 1.21406448\n",
            " 1.81808211 0.20334895 0.96138559 0.04932993 0.70870671 0.5546877\n",
            " 1.46674336 0.30200882 0.30200882 1.97210112 1.46674336 0.96138559\n",
            " 0.45602783 0.45602783 0.80736658 0.80736658 0.30200882 0.20334895\n",
            " 0.96138559 0.70870671 0.04932993 0.80736658 0.96138559 0.20334895\n",
            " 0.04932993 1.46674336 0.45602783 1.56540323 1.21406448 0.70870671\n",
            " 0.5546877  0.5546877  2.32343987 1.56540323 1.31272434 0.80736658\n",
            " 0.80736658 1.06004546 0.04932993 0.04932993 1.31272434 0.20334895\n",
            " 0.04932993 0.70870671 0.20334895 0.30200882 1.46674336 0.80736658\n",
            " 1.21406448 0.80736658 0.80736658 0.20334895 0.45602783 1.21406448\n",
            " 2.57611875 0.04932993 0.20334895 1.81808211 0.04932993 0.04932993\n",
            " 1.31272434 1.06004546 0.5546877  0.04932993 0.5546877  0.04932993\n",
            " 0.80736658 0.30200882 0.30200882 2.22478    1.97210112 1.81808211\n",
            " 0.20334895 0.5546877  0.70870671 0.04932993 0.5546877  1.56540323\n",
            " 0.04932993 0.04932993 0.80736658 0.80736658 1.56540323 0.30200882\n",
            " 0.80736658 0.04932993 0.45602783 0.04932993 0.5546877  1.31272434\n",
            " 1.46674336 0.96138559 0.96138559 1.46674336 0.04932993]\n"
          ],
          "name": "stdout"
        }
      ]
    },
    {
      "cell_type": "markdown",
      "metadata": {
        "id": "n7Pd1EyeaQYn"
      },
      "source": [
        "#z Scores von age"
      ]
    },
    {
      "cell_type": "code",
      "metadata": {
        "id": "i0blVFWcPG-6",
        "colab": {
          "base_uri": "https://localhost:8080/",
          "height": 299
        },
        "outputId": "1c7095b6-fa3a-45cd-c4da-fc0616480b68"
      },
      "source": [
        "from scipy.stats import norm\n",
        "# generate random numbers from N(0,1)\n",
        "e['age'] = norm.rvs(size=461,loc=0,scale=1)\n",
        "ax = sns.distplot(e['age'],\n",
        "                  bins=100,\n",
        "                  kde=True,\n",
        "                  color='skyblue',\n",
        "                  hist_kws={\"linewidth\": 15,'alpha':1})\n",
        "ax.set(xlabel='Standart Normal Distribution', ylabel='Frequency')\n",
        "\n",
        "#Konvertierung von age in die Standardnormalverteilung"
      ],
      "execution_count": null,
      "outputs": [
        {
          "output_type": "execute_result",
          "data": {
            "text/plain": [
              "[Text(0, 0.5, 'Frequency'), Text(0.5, 0, 'Standart Normal Distribution')]"
            ]
          },
          "metadata": {
            "tags": []
          },
          "execution_count": 469
        },
        {
          "output_type": "display_data",
          "data": {
            "image/png": "[encoded data removed]",
            "text/plain": [
              "<Figure size 432x288 with 1 Axes>"
            ]
          },
          "metadata": {
            "tags": [],
            "needs_background": "light"
          }
        }
      ]
    },
    {
      "cell_type": "markdown",
      "metadata": {
        "id": "jf9wR_ZRahrK"
      },
      "source": [
        "#Konvertierung von age in die Standardnormalverteilung"
      ]
    },
    {
      "cell_type": "code",
      "metadata": {
        "id": "tdLOe3mZd0rS",
        "colab": {
          "base_uri": "https://localhost:8080/",
          "height": 299
        },
        "outputId": "9e552973-d91a-42cb-a0d9-571a52b7f700"
      },
      "source": [
        "sns.distplot(e[\"age\"])#Normalverteilung von age"
      ],
      "execution_count": null,
      "outputs": [
        {
          "output_type": "execute_result",
          "data": {
            "text/plain": [
              "<matplotlib.axes._subplots.AxesSubplot at 0x7f2f3f957390>"
            ]
          },
          "metadata": {
            "tags": []
          },
          "execution_count": 470
        },
        {
          "output_type": "display_data",
          "data": {
            "image/png": "[encoded data removed]",
            "text/plain": [
              "<Figure size 432x288 with 1 Axes>"
            ]
          },
          "metadata": {
            "tags": [],
            "needs_background": "light"
          }
        }
      ]
    },
    {
      "cell_type": "markdown",
      "metadata": {
        "id": "wozJpCofatEK"
      },
      "source": [
        "#Normalverteilung von age"
      ]
    },
    {
      "cell_type": "markdown",
      "metadata": {
        "id": "jThE3wJciO78"
      },
      "source": [
        "**NORMAL DISTRIBUTION**\n",
        "Use normal distributions to compute probabilities\n",
        "Use the Z-table to look up the proportions of observations\n",
        "above, below, or in between values"
      ]
    },
    {
      "cell_type": "code",
      "metadata": {
        "id": "LKhR8Oroeaep",
        "colab": {
          "base_uri": "https://localhost:8080/",
          "height": 303
        },
        "outputId": "82cefb6b-7b5a-4e88-bb11-67651e83a809"
      },
      "source": [
        "from scipy.stats import norm\n",
        "# generate random numbers from N(0,1)\n",
        "e['age'] = norm.rvs(size=461,loc=26.804,scale=3.96)\n",
        "ax = sns.distplot(e['age'],\n",
        "                  bins=100,\n",
        "                  kde=True,\n",
        "                  color='skyblue',\n",
        "                  hist_kws={\"linewidth\": 15,'alpha':1})\n",
        "ax.set(xlabel=' Normal Distribution', ylabel='Frequency')\n",
        "#Normalverteilung von age"
      ],
      "execution_count": null,
      "outputs": [
        {
          "output_type": "execute_result",
          "data": {
            "text/plain": [
              "[Text(0, 0.5, 'Frequency'), Text(0.5, 0, ' Normal Distribution')]"
            ]
          },
          "metadata": {
            "tags": []
          },
          "execution_count": 471
        },
        {
          "output_type": "display_data",
          "data": {
            "image/png": "[encoded data removed]",
            "text/plain": [
              "<Figure size 432x288 with 1 Axes>"
            ]
          },
          "metadata": {
            "tags": [],
            "needs_background": "light"
          }
        }
      ]
    },
    {
      "cell_type": "markdown",
      "metadata": {
        "id": "jF369zkOa3hQ"
      },
      "source": [
        "#Normalverteilung von age"
      ]
    },
    {
      "cell_type": "code",
      "metadata": {
        "id": "Orp1AH1ngayd",
        "colab": {
          "base_uri": "https://localhost:8080/",
          "height": 204
        },
        "outputId": "8d6c06fe-5ec8-4b25-8f8f-77aca6bce2db"
      },
      "source": [
        "e=pd.read_csv(\"/datasets_1808_3130_epldata_final.csv\")\n",
        "df=e.copy()\n",
        "df=df[['age']]\n",
        "df.head(5)"
      ],
      "execution_count": null,
      "outputs": [
        {
          "output_type": "execute_result",
          "data": {
            "text/html": [
              "<div>\n",
              "<style scoped>\n",
              "    .dataframe tbody tr th:only-of-type {\n",
              "        vertical-align: middle;\n",
              "    }\n",
              "\n",
              "    .dataframe tbody tr th {\n",
              "        vertical-align: top;\n",
              "    }\n",
              "\n",
              "    .dataframe thead th {\n",
              "        text-align: right;\n",
              "    }\n",
              "</style>\n",
              "<table border=\"1\" class=\"dataframe\">\n",
              "  <thead>\n",
              "    <tr style=\"text-align: right;\">\n",
              "      <th></th>\n",
              "      <th>age</th>\n",
              "    </tr>\n",
              "  </thead>\n",
              "  <tbody>\n",
              "    <tr>\n",
              "      <th>0</th>\n",
              "      <td>28</td>\n",
              "    </tr>\n",
              "    <tr>\n",
              "      <th>1</th>\n",
              "      <td>28</td>\n",
              "    </tr>\n",
              "    <tr>\n",
              "      <th>2</th>\n",
              "      <td>35</td>\n",
              "    </tr>\n",
              "    <tr>\n",
              "      <th>3</th>\n",
              "      <td>28</td>\n",
              "    </tr>\n",
              "    <tr>\n",
              "      <th>4</th>\n",
              "      <td>31</td>\n",
              "    </tr>\n",
              "  </tbody>\n",
              "</table>\n",
              "</div>"
            ],
            "text/plain": [
              "   age\n",
              "0   28\n",
              "1   28\n",
              "2   35\n",
              "3   28\n",
              "4   31"
            ]
          },
          "metadata": {
            "tags": []
          },
          "execution_count": 472
        }
      ]
    },
    {
      "cell_type": "code",
      "metadata": {
        "id": "YUr5xMhix1ai",
        "colab": {
          "base_uri": "https://localhost:8080/",
          "height": 299
        },
        "outputId": "88eab670-f186-425e-8992-ee51effd8747"
      },
      "source": [
        "sns.distplot(df['age'], color=\"r\")#Normalverteilung von age"
      ],
      "execution_count": null,
      "outputs": [
        {
          "output_type": "execute_result",
          "data": {
            "text/plain": [
              "<matplotlib.axes._subplots.AxesSubplot at 0x7f2f3fc7c3c8>"
            ]
          },
          "metadata": {
            "tags": []
          },
          "execution_count": 473
        },
        {
          "output_type": "display_data",
          "data": {
            "image/png": "[encoded data removed]",
            "text/plain": [
              "<Figure size 432x288 with 1 Axes>"
            ]
          },
          "metadata": {
            "tags": [],
            "needs_background": "light"
          }
        }
      ]
    },
    {
      "cell_type": "markdown",
      "metadata": {
        "id": "Iz1AGThka7tY"
      },
      "source": [
        "#Normalverteilung von age"
      ]
    },
    {
      "cell_type": "code",
      "metadata": {
        "id": "IvS3gGXUyDW9",
        "colab": {
          "base_uri": "https://localhost:8080/",
          "height": 34
        },
        "outputId": "7cc3d660-13e1-418e-b929-b377dcbb5dba"
      },
      "source": [
        "age_mean = df['age'].mean()#mittlewert von age\n",
        "age_mean"
      ],
      "execution_count": null,
      "outputs": [
        {
          "output_type": "execute_result",
          "data": {
            "text/plain": [
              "26.80477223427332"
            ]
          },
          "metadata": {
            "tags": []
          },
          "execution_count": 474
        }
      ]
    },
    {
      "cell_type": "markdown",
      "metadata": {
        "id": "PLORiUZubG6n"
      },
      "source": [
        "#mittlewert von age"
      ]
    },
    {
      "cell_type": "code",
      "metadata": {
        "id": "6OvDzfJ-yTX1",
        "colab": {
          "base_uri": "https://localhost:8080/",
          "height": 34
        },
        "outputId": "278b3b8f-007c-43f4-b994-d33554ccd9b7"
      },
      "source": [
        "age_std = df['age'].std()#Standartabweichung von age\n",
        "age_std"
      ],
      "execution_count": null,
      "outputs": [
        {
          "output_type": "execute_result",
          "data": {
            "text/plain": [
              "3.96189170370961"
            ]
          },
          "metadata": {
            "tags": []
          },
          "execution_count": 475
        }
      ]
    },
    {
      "cell_type": "markdown",
      "metadata": {
        "id": "3ESnFB13bN1f"
      },
      "source": [
        "#Standartabweichung von age"
      ]
    },
    {
      "cell_type": "code",
      "metadata": {
        "id": "gzor9UDB1QGJ",
        "colab": {
          "base_uri": "https://localhost:8080/",
          "height": 419
        },
        "outputId": "e08180c7-4913-4628-80d6-55f9063311d0"
      },
      "source": [
        "df['age_z-score'] = (df['age']-age_mean)/age_std\n",
        "\n",
        "\n",
        "\n",
        "df.head(461)#z Score-Werte von agedaten"
      ],
      "execution_count": null,
      "outputs": [
        {
          "output_type": "execute_result",
          "data": {
            "text/html": [
              "<div>\n",
              "<style scoped>\n",
              "    .dataframe tbody tr th:only-of-type {\n",
              "        vertical-align: middle;\n",
              "    }\n",
              "\n",
              "    .dataframe tbody tr th {\n",
              "        vertical-align: top;\n",
              "    }\n",
              "\n",
              "    .dataframe thead th {\n",
              "        text-align: right;\n",
              "    }\n",
              "</style>\n",
              "<table border=\"1\" class=\"dataframe\">\n",
              "  <thead>\n",
              "    <tr style=\"text-align: right;\">\n",
              "      <th></th>\n",
              "      <th>age</th>\n",
              "      <th>age_z-score</th>\n",
              "    </tr>\n",
              "  </thead>\n",
              "  <tbody>\n",
              "    <tr>\n",
              "      <th>0</th>\n",
              "      <td>28</td>\n",
              "      <td>0.3017</td>\n",
              "    </tr>\n",
              "    <tr>\n",
              "      <th>1</th>\n",
              "      <td>28</td>\n",
              "      <td>0.3017</td>\n",
              "    </tr>\n",
              "    <tr>\n",
              "      <th>2</th>\n",
              "      <td>35</td>\n",
              "      <td>2.0685</td>\n",
              "    </tr>\n",
              "    <tr>\n",
              "      <th>3</th>\n",
              "      <td>28</td>\n",
              "      <td>0.3017</td>\n",
              "    </tr>\n",
              "    <tr>\n",
              "      <th>4</th>\n",
              "      <td>31</td>\n",
              "      <td>1.0589</td>\n",
              "    </tr>\n",
              "    <tr>\n",
              "      <th>...</th>\n",
              "      <td>...</td>\n",
              "      <td>...</td>\n",
              "    </tr>\n",
              "    <tr>\n",
              "      <th>456</th>\n",
              "      <td>21</td>\n",
              "      <td>-1.4652</td>\n",
              "    </tr>\n",
              "    <tr>\n",
              "      <th>457</th>\n",
              "      <td>23</td>\n",
              "      <td>-0.9603</td>\n",
              "    </tr>\n",
              "    <tr>\n",
              "      <th>458</th>\n",
              "      <td>23</td>\n",
              "      <td>-0.9603</td>\n",
              "    </tr>\n",
              "    <tr>\n",
              "      <th>459</th>\n",
              "      <td>21</td>\n",
              "      <td>-1.4652</td>\n",
              "    </tr>\n",
              "    <tr>\n",
              "      <th>460</th>\n",
              "      <td>27</td>\n",
              "      <td>0.0493</td>\n",
              "    </tr>\n",
              "  </tbody>\n",
              "</table>\n",
              "<p>461 rows × 2 columns</p>\n",
              "</div>"
            ],
            "text/plain": [
              "     age  age_z-score\n",
              "0     28       0.3017\n",
              "1     28       0.3017\n",
              "2     35       2.0685\n",
              "3     28       0.3017\n",
              "4     31       1.0589\n",
              "..   ...          ...\n",
              "456   21      -1.4652\n",
              "457   23      -0.9603\n",
              "458   23      -0.9603\n",
              "459   21      -1.4652\n",
              "460   27       0.0493\n",
              "\n",
              "[461 rows x 2 columns]"
            ]
          },
          "metadata": {
            "tags": []
          },
          "execution_count": 476
        }
      ]
    },
    {
      "cell_type": "markdown",
      "metadata": {
        "id": "u_OleV-vbcLX"
      },
      "source": [
        "#z Score-Werte von agedaten"
      ]
    },
    {
      "cell_type": "code",
      "metadata": {
        "id": "POgg4pqmztkN",
        "colab": {
          "base_uri": "https://localhost:8080/",
          "height": 316
        },
        "outputId": "185d1f3f-ae23-4242-fdc8-b9aba8f72da7"
      },
      "source": [
        "df['age_z-score'].hist()\n",
        "plt.title(\"Standard Normal Distribution\")\n",
        "plt.xlabel(\"z-score\")\n",
        "#Konvertierung von age in die Standardnormalverteilung"
      ],
      "execution_count": null,
      "outputs": [
        {
          "output_type": "execute_result",
          "data": {
            "text/plain": [
              "Text(0.5, 0, 'z-score')"
            ]
          },
          "metadata": {
            "tags": []
          },
          "execution_count": 477
        },
        {
          "output_type": "display_data",
          "data": {
            "image/png": "[encoded data removed]",
            "text/plain": [
              "<Figure size 432x288 with 1 Axes>"
            ]
          },
          "metadata": {
            "tags": [],
            "needs_background": "light"
          }
        }
      ]
    },
    {
      "cell_type": "markdown",
      "metadata": {
        "id": "y3JARScfb7CY"
      },
      "source": [
        "#Konvertierung von age in die Standardnormalverteilung"
      ]
    },
    {
      "cell_type": "code",
      "metadata": {
        "id": "XHGWHCLu0NLU",
        "colab": {
          "base_uri": "https://localhost:8080/",
          "height": 34
        },
        "outputId": "3f71354f-398c-4be2-ea7b-5b89c0d78315"
      },
      "source": [
        "z_score_distribution_std_dev = round(df['age_z-score'].std(), 2)\n",
        "z_score_distribution_std_dev\n",
        "#Beweis, dass die Fläche unter der Standardnormalverteilung 1 ist"
      ],
      "execution_count": null,
      "outputs": [
        {
          "output_type": "execute_result",
          "data": {
            "text/plain": [
              "1.0"
            ]
          },
          "metadata": {
            "tags": []
          },
          "execution_count": 478
        }
      ]
    },
    {
      "cell_type": "markdown",
      "metadata": {
        "id": "GfGfKiUjcG_m"
      },
      "source": [
        "#Beweis, dass die Fläche unter der Standardnormalverteilung 1 ist"
      ]
    },
    {
      "cell_type": "code",
      "metadata": {
        "id": "mzrZYUys2l0s",
        "colab": {
          "base_uri": "https://localhost:8080/",
          "height": 299
        },
        "outputId": "604a467f-6635-4e19-b794-a2f4c8031b46"
      },
      "source": [
        "sns.distplot(df['age'], hist=False)"
      ],
      "execution_count": null,
      "outputs": [
        {
          "output_type": "execute_result",
          "data": {
            "text/plain": [
              "<matplotlib.axes._subplots.AxesSubplot at 0x7f2f3f430eb8>"
            ]
          },
          "metadata": {
            "tags": []
          },
          "execution_count": 479
        },
        {
          "output_type": "display_data",
          "data": {
            "image/png": "[encoded data removed]",
            "text/plain": [
              "<Figure size 432x288 with 1 Axes>"
            ]
          },
          "metadata": {
            "tags": [],
            "needs_background": "light"
          }
        }
      ]
    },
    {
      "cell_type": "code",
      "metadata": {
        "id": "-Z-xQFlf4gNH",
        "colab": {
          "base_uri": "https://localhost:8080/",
          "height": 51
        },
        "outputId": "54d76c8f-988b-4f80-8eac-71a3733c5fa6"
      },
      "source": [
        "choosing_age = 30\n",
        "def z_score(value, age_mean, age_std):\n",
        "  return round((value - age_mean)/age_std, 2)\n",
        "z_score_choosing_age = z_score(choosing_age, age_mean, age_std) \n",
        "proportion_of_choosing_age_more_than = round(stats.norm.cdf(z_score_choosing_age), 3)\n",
        "print(proportion_of_choosing_age_more_than)\n",
        "print((proportion_of_choosing_age_more_than*100),'%')\n",
        "\n",
        "#In diesem Abschnitt haben wir ein Alter in den Altersdaten ausgewählt. Der ausgewählte Wert ist grösser als der Prozentsatz der Werte in den Daten."
      ],
      "execution_count": null,
      "outputs": [
        {
          "output_type": "stream",
          "text": [
            "0.791\n",
            "79.10000000000001 %\n"
          ],
          "name": "stdout"
        }
      ]
    },
    {
      "cell_type": "markdown",
      "metadata": {
        "id": "U-pxj7NCeFuu"
      },
      "source": [
        "In diesem Abschnitt haben wir ein Alter in den age daten ausgewählt. Der ausgewählte Wert ist grösser als der Prozentsatz der Werte in den Daten."
      ]
    },
    {
      "cell_type": "code",
      "metadata": {
        "id": "ANVCrk7E5jzr",
        "colab": {
          "base_uri": "https://localhost:8080/",
          "height": 282
        },
        "outputId": "b7ee4bbd-05bc-4cb7-cb75-7c438c6b942e"
      },
      "source": [
        "kde = stats.gaussian_kde(df['age'])\n",
        "pos = np.linspace(df['age'].min(), df['age'].max(), 50000)\n",
        "plt.plot(pos, kde(pos))\n",
        "shade = np.linspace(55, choosing_age, 300)\n",
        "plt.fill_between(shade, kde(shade))\n",
        "#Bu grafikte gösterilen alan (1-0.791),seçtiğimiz değerin datadaki hangi değerlerden küçük olduğunun olasılığını verir.  "
      ],
      "execution_count": null,
      "outputs": [
        {
          "output_type": "execute_result",
          "data": {
            "text/plain": [
              "<matplotlib.collections.PolyCollection at 0x7f2f3f412e10>"
            ]
          },
          "metadata": {
            "tags": []
          },
          "execution_count": 481
        },
        {
          "output_type": "display_data",
          "data": {
            "image/png": "[encoded data removed]",
            "text/plain": [
              "<Figure size 432x288 with 1 Axes>"
            ]
          },
          "metadata": {
            "tags": [],
            "needs_background": "light"
          }
        }
      ]
    },
    {
      "cell_type": "markdown",
      "metadata": {
        "id": "UJLCSj7of-3C"
      },
      "source": [
        "\n",
        "#Das in dieser Tabelle gezeigte Feld (1-0.791) gibt die Wahrscheinlichkeit an, dass die von uns ausgewählten Werte kleiner als die Werte in den Daten sind."
      ]
    },
    {
      "cell_type": "markdown",
      "metadata": {
        "id": "OiAroAgTiemC"
      },
      "source": [
        "**SAMPLING DISTRIBUTIONS**\n",
        "\n",
        "Apply the concepts of probability and normalization to\n",
        "sample data sets"
      ]
    },
    {
      "cell_type": "markdown",
      "metadata": {
        "id": "7m5B3kB6oZpY"
      },
      "source": [
        "\n",
        "Normalisierung von age und market_value"
      ]
    },
    {
      "cell_type": "code",
      "metadata": {
        "id": "p78G67_ykfPl"
      },
      "source": [
        "from sklearn.preprocessing import MinMaxScaler\n",
        "scaler = MinMaxScaler()\n",
        "data_scaled = scaler.fit_transform(data_scaled)"
      ],
      "execution_count": null,
      "outputs": []
    },
    {
      "cell_type": "code",
      "metadata": {
        "id": "dWQlB7mMk5HY"
      },
      "source": [
        "import numpy as np \n",
        "import pandas as pd \n",
        "import matplotlib.pyplot as plt\n",
        "from sklearn.preprocessing import MinMaxScaler"
      ],
      "execution_count": null,
      "outputs": []
    },
    {
      "cell_type": "code",
      "metadata": {
        "id": "hsm34UQHlV0Y",
        "colab": {
          "base_uri": "https://localhost:8080/",
          "height": 204
        },
        "outputId": "1f3427a9-3aa7-46e8-d981-573ed01ef905"
      },
      "source": [
        "e=pd.read_csv(\"/datasets_1808_3130_epldata_final.csv\")\n",
        "df=e.copy()\n",
        "df=df[['age','market_value']]\n",
        "df.head(5)"
      ],
      "execution_count": null,
      "outputs": [
        {
          "output_type": "execute_result",
          "data": {
            "text/html": [
              "<div>\n",
              "<style scoped>\n",
              "    .dataframe tbody tr th:only-of-type {\n",
              "        vertical-align: middle;\n",
              "    }\n",
              "\n",
              "    .dataframe tbody tr th {\n",
              "        vertical-align: top;\n",
              "    }\n",
              "\n",
              "    .dataframe thead th {\n",
              "        text-align: right;\n",
              "    }\n",
              "</style>\n",
              "<table border=\"1\" class=\"dataframe\">\n",
              "  <thead>\n",
              "    <tr style=\"text-align: right;\">\n",
              "      <th></th>\n",
              "      <th>age</th>\n",
              "      <th>market_value</th>\n",
              "    </tr>\n",
              "  </thead>\n",
              "  <tbody>\n",
              "    <tr>\n",
              "      <th>0</th>\n",
              "      <td>28</td>\n",
              "      <td>65.0</td>\n",
              "    </tr>\n",
              "    <tr>\n",
              "      <th>1</th>\n",
              "      <td>28</td>\n",
              "      <td>50.0</td>\n",
              "    </tr>\n",
              "    <tr>\n",
              "      <th>2</th>\n",
              "      <td>35</td>\n",
              "      <td>7.0</td>\n",
              "    </tr>\n",
              "    <tr>\n",
              "      <th>3</th>\n",
              "      <td>28</td>\n",
              "      <td>20.0</td>\n",
              "    </tr>\n",
              "    <tr>\n",
              "      <th>4</th>\n",
              "      <td>31</td>\n",
              "      <td>22.0</td>\n",
              "    </tr>\n",
              "  </tbody>\n",
              "</table>\n",
              "</div>"
            ],
            "text/plain": [
              "   age  market_value\n",
              "0   28          65.0\n",
              "1   28          50.0\n",
              "2   35           7.0\n",
              "3   28          20.0\n",
              "4   31          22.0"
            ]
          },
          "metadata": {
            "tags": []
          },
          "execution_count": 484
        }
      ]
    },
    {
      "cell_type": "code",
      "metadata": {
        "id": "I8FG94hul3kD",
        "colab": {
          "base_uri": "https://localhost:8080/",
          "height": 240
        },
        "outputId": "086f3688-a037-4676-bccd-8d558473cbb1"
      },
      "source": [
        "continous_vars=df.describe().columns\n",
        "print(continous_vars)\n",
        "print('Continuous Variables Visialization','\\n')\n",
        "plt.style.use('ggplot')\n",
        "df.hist(column=continous_vars,figsize=(20,3))\n",
        "plt.show()"
      ],
      "execution_count": null,
      "outputs": [
        {
          "output_type": "stream",
          "text": [
            "Index(['age', 'market_value'], dtype='object')\n",
            "Continuous Variables Visialization \n",
            "\n"
          ],
          "name": "stdout"
        },
        {
          "output_type": "display_data",
          "data": {
            "image/png": "[encoded data removed]",
            "text/plain": [
              "<Figure size 1440x216 with 2 Axes>"
            ]
          },
          "metadata": {
            "tags": []
          }
        }
      ]
    },
    {
      "cell_type": "code",
      "metadata": {
        "id": "gMOxd_HkmkwD",
        "colab": {
          "base_uri": "https://localhost:8080/",
          "height": 204
        },
        "outputId": "7020c298-4967-4862-bb4a-843f822983f1"
      },
      "source": [
        "scaler=MinMaxScaler()\n",
        "data_scaled=pd.DataFrame(scaler.fit_transform(df),columns=df.columns)\n",
        "data_scaled.head()"
      ],
      "execution_count": null,
      "outputs": [
        {
          "output_type": "execute_result",
          "data": {
            "text/html": [
              "<div>\n",
              "<style scoped>\n",
              "    .dataframe tbody tr th:only-of-type {\n",
              "        vertical-align: middle;\n",
              "    }\n",
              "\n",
              "    .dataframe tbody tr th {\n",
              "        vertical-align: top;\n",
              "    }\n",
              "\n",
              "    .dataframe thead th {\n",
              "        text-align: right;\n",
              "    }\n",
              "</style>\n",
              "<table border=\"1\" class=\"dataframe\">\n",
              "  <thead>\n",
              "    <tr style=\"text-align: right;\">\n",
              "      <th></th>\n",
              "      <th>age</th>\n",
              "      <th>market_value</th>\n",
              "    </tr>\n",
              "  </thead>\n",
              "  <tbody>\n",
              "    <tr>\n",
              "      <th>0</th>\n",
              "      <td>0.5238</td>\n",
              "      <td>0.8666</td>\n",
              "    </tr>\n",
              "    <tr>\n",
              "      <th>1</th>\n",
              "      <td>0.5238</td>\n",
              "      <td>0.6664</td>\n",
              "    </tr>\n",
              "    <tr>\n",
              "      <th>2</th>\n",
              "      <td>0.8571</td>\n",
              "      <td>0.0927</td>\n",
              "    </tr>\n",
              "    <tr>\n",
              "      <th>3</th>\n",
              "      <td>0.5238</td>\n",
              "      <td>0.2662</td>\n",
              "    </tr>\n",
              "    <tr>\n",
              "      <th>4</th>\n",
              "      <td>0.6667</td>\n",
              "      <td>0.2929</td>\n",
              "    </tr>\n",
              "  </tbody>\n",
              "</table>\n",
              "</div>"
            ],
            "text/plain": [
              "      age  market_value\n",
              "0  0.5238        0.8666\n",
              "1  0.5238        0.6664\n",
              "2  0.8571        0.0927\n",
              "3  0.5238        0.2662\n",
              "4  0.6667        0.2929"
            ]
          },
          "metadata": {
            "tags": []
          },
          "execution_count": 486
        }
      ]
    },
    {
      "cell_type": "code",
      "metadata": {
        "id": "lUxQplA-nLS6",
        "colab": {
          "base_uri": "https://localhost:8080/",
          "height": 240
        },
        "outputId": "d6a21efa-a2f5-4eb0-b0ff-b336972c82d2"
      },
      "source": [
        "continous_vars = data_scaled.describe().columns\n",
        "print(continous_vars)\n",
        "print(\"Continious Variables Visualization\",\"\\n\")\n",
        "plt.style.use('ggplot')\n",
        "data_scaled.hist(column = continous_vars , figsize = (20,3))\n",
        "plt.show()#Normalisierung von age und market_value"
      ],
      "execution_count": null,
      "outputs": [
        {
          "output_type": "stream",
          "text": [
            "Index(['age', 'market_value'], dtype='object')\n",
            "Continious Variables Visualization \n",
            "\n"
          ],
          "name": "stdout"
        },
        {
          "output_type": "display_data",
          "data": {
            "image/png": "[encoded data removed]",
            "text/plain": [
              "<Figure size 1440x216 with 2 Axes>"
            ]
          },
          "metadata": {
            "tags": []
          }
        }
      ]
    },
    {
      "cell_type": "markdown",
      "metadata": {
        "id": "sSCHW-DYgciC"
      },
      "source": [
        "Normalisierung von age und market_value"
      ]
    },
    {
      "cell_type": "markdown",
      "metadata": {
        "id": "LiqPTCztHsEK"
      },
      "source": [
        "**References**\n",
        "\n",
        "https://www.kaggle.com/mauryashubham/english-premier-league-players-dataset\n",
        "\n",
        "https://www.beautifulgame.co.uk/"
      ]
    }
  ]
}